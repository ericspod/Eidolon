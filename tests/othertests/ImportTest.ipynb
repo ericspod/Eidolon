{
 "cells": [
  {
   "cell_type": "code",
   "execution_count": 7,
   "metadata": {},
   "outputs": [
    {
     "name": "stdout",
     "output_type": "stream",
     "text": [
      "/home/localek10/workspace/Eidolon\n"
     ]
    }
   ],
   "source": [
    "import sys,os,glob,ctypes\n",
    "\n",
    "sys.path.append('../..')\n",
    "\n",
    "import eidolon\n",
    "print(eidolon.getAppDir())"
   ]
  },
  {
   "cell_type": "code",
   "execution_count": 4,
   "metadata": {},
   "outputs": [],
   "source": [
    "import eidolon.plugins.NiftiPlugin\n",
    "conf=eidolon.Config()\n",
    "mgr=eidolon.SceneManager(None,conf)\n",
    "nib=eidolon.plugins.NiftiPlugin.NiftiPlugin()\n",
    "nib.init(1,None,mgr)"
   ]
  },
  {
   "cell_type": "code",
   "execution_count": 5,
   "metadata": {},
   "outputs": [
    {
     "name": "stdout",
     "output_type": "stream",
     "text": [
      "_loadNiftiFile\n",
      "createObjectFromArray\n",
      "createObjectFromArray dT (s) = 0.04525566101074219\n",
      "_loadNiftiFile dT (s) = 0.06585264205932617\n"
     ]
    }
   ],
   "source": [
    "nii=nib.loadObject('test.nii')\n",
    "nii=nii()"
   ]
  },
  {
   "cell_type": "code",
   "execution_count": 6,
   "metadata": {},
   "outputs": [
    {
     "data": {
      "text/plain": [
       "ImageSceneObject<'rt4_frame15' @ 0x00007f383f005198>"
      ]
     },
     "execution_count": 6,
     "metadata": {},
     "output_type": "execute_result"
    }
   ],
   "source": [
    "nii"
   ]
  }
 ],
 "metadata": {
  "kernelspec": {
   "display_name": "Python 3",
   "language": "python",
   "name": "python3"
  },
  "language_info": {
   "codemirror_mode": {
    "name": "ipython",
    "version": 3
   },
   "file_extension": ".py",
   "mimetype": "text/x-python",
   "name": "python",
   "nbconvert_exporter": "python",
   "pygments_lexer": "ipython3",
   "version": "3.6.7"
  }
 },
 "nbformat": 4,
 "nbformat_minor": 2
}
